{
  "nbformat": 4,
  "nbformat_minor": 0,
  "metadata": {
    "colab": {
      "name": "ConfidenceIntervalUsingBootStrapping.ipynb",
      "provenance": [],
      "collapsed_sections": []
    },
    "kernelspec": {
      "name": "python3",
      "display_name": "Python 3"
    },
    "language_info": {
      "name": "python"
    }
  },
  "cells": [
    {
      "cell_type": "code",
      "metadata": {
        "id": "Mpd15Lo5rOIy"
      },
      "source": [
        "#Empirical bootstrap based Confidence Interval\n"
      ],
      "execution_count": null,
      "outputs": []
    },
    {
      "cell_type": "code",
      "metadata": {
        "id": "mvol7No4rrEP"
      },
      "source": [
        "import numpy\n",
        "\n",
        "#load dataset\n",
        "x = numpy.array([180,162,158,172,168,150,171,183,165,176])"
      ],
      "execution_count": null,
      "outputs": []
    },
    {
      "cell_type": "code",
      "metadata": {
        "id": "LPtVxe27r8ao"
      },
      "source": [
        "#configure bootstrap\n",
        "n_iterations = 1000\n",
        "n_size = int(len(x))\n"
      ],
      "execution_count": null,
      "outputs": []
    },
    {
      "cell_type": "code",
      "metadata": {
        "id": "bvgh5iPUsFpK"
      },
      "source": [
        "from sklearn.utils import resample\n",
        "\n",
        "#run bootstrap\n",
        "medians = list()\n",
        "for i in range(n_iterations):\n",
        "  #prepare train and test sets\n",
        "  s = resample(x, n_samples = n_size) \n",
        "  m = numpy.median(s)\n",
        "  medians.append(m)\n"
      ],
      "execution_count": null,
      "outputs": []
    },
    {
      "cell_type": "code",
      "metadata": {
        "colab": {
          "base_uri": "https://localhost:8080/",
          "height": 335
        },
        "id": "KyeJbp-Isgo1",
        "outputId": "1e7d7a80-04a6-4f5c-f0d8-8650474ce78e"
      },
      "source": [
        "import matplotlib.pyplot as plt\n",
        "\n",
        "#plot scores\n",
        "plt.hist(medians)"
      ],
      "execution_count": null,
      "outputs": [
        {
          "output_type": "execute_result",
          "data": {
            "text/plain": [
              "(array([  1.,   7.,  42.,  53., 201., 302., 259.,  85.,  44.,   6.]),\n",
              " array([154.  , 156.75, 159.5 , 162.25, 165.  , 167.75, 170.5 , 173.25,\n",
              "        176.  , 178.75, 181.5 ]),\n",
              " <a list of 10 Patch objects>)"
            ]
          },
          "metadata": {},
          "execution_count": 6
        },
        {
          "output_type": "display_data",
          "data": {
            "image/png": "[encoded data removed]",
            "text/plain": [
              "<Figure size 432x288 with 1 Axes>"
            ]
          },
          "metadata": {
            "needs_background": "light"
          }
        }
      ]
    },
    {
      "cell_type": "code",
      "metadata": {
        "colab": {
          "base_uri": "https://localhost:8080/"
        },
        "id": "g3E0FLLCs0mc",
        "outputId": "b242b144-64fd-441d-ed27-7ee9750a5a13"
      },
      "source": [
        "#confidence interval\n",
        "alpha = 0.95\n",
        "p = ((1.0-alpha) /2.0) * 100\n",
        "lower = numpy.percentile(medians, p)\n",
        "\n",
        "p = (alpha + ((1.0 - alpha)/2.0)) * 100\n",
        "upper = numpy.percentile(medians, p)\n",
        "\n",
        "print(alpha*100 ,\" Confidence Interval \", lower , \" and \", upper)"
      ],
      "execution_count": null,
      "outputs": [
        {
          "output_type": "stream",
          "name": "stdout",
          "text": [
            "95.0  Confidence Interval  161.5  and  176.0\n"
          ]
        }
      ]
    },
    {
      "cell_type": "code",
      "metadata": {
        "id": "JQvqtbTTtHaW"
      },
      "source": [
        ""
      ],
      "execution_count": null,
      "outputs": []
    },
    {
      "cell_type": "code",
      "metadata": {
        "id": "TZHf6jmNtIoj"
      },
      "source": [
        ""
      ],
      "execution_count": null,
      "outputs": []
    }
  ]
}